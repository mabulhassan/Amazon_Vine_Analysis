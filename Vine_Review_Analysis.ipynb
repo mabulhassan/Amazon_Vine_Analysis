{
  "nbformat": 4,
  "nbformat_minor": 0,
  "metadata": {
    "colab": {
      "provenance": []
    },
    "kernelspec": {
      "name": "python3",
      "display_name": "Python 3"
    },
    "language_info": {
      "name": "python"
    }
  },
  "cells": [
    {
      "cell_type": "code",
      "execution_count": 1,
      "metadata": {
        "colab": {
          "base_uri": "https://localhost:8080/"
        },
        "id": "Qm1junrhhi3_",
        "outputId": "f0673f88-c896-404a-c6a4-78ce7a3a2be3"
      },
      "outputs": [
        {
          "output_type": "stream",
          "name": "stdout",
          "text": [
            "\r0% [Working]\r            \rGet:1 https://cloud.r-project.org/bin/linux/ubuntu focal-cran40/ InRelease [3,622 B]\n",
            "\r            \rGet:2 https://developer.download.nvidia.com/compute/cuda/repos/ubuntu2004/x86_64  InRelease [1,581 B]\n",
            "\r0% [Connecting to archive.ubuntu.com (185.125.190.39)] [Waiting for headers] [1\r0% [Connecting to archive.ubuntu.com (185.125.190.39)] [Waiting for headers] [W\r                                                                               \rGet:3 http://security.ubuntu.com/ubuntu focal-security InRelease [114 kB]\n",
            "Hit:4 http://ppa.launchpad.net/c2d4u.team/c2d4u4.0+/ubuntu focal InRelease\n",
            "Hit:5 http://archive.ubuntu.com/ubuntu focal InRelease\n",
            "Get:6 http://archive.ubuntu.com/ubuntu focal-updates InRelease [114 kB]\n",
            "Hit:7 http://ppa.launchpad.net/cran/libgit2/ubuntu focal InRelease\n",
            "Hit:8 http://ppa.launchpad.net/deadsnakes/ppa/ubuntu focal InRelease\n",
            "Get:9 http://archive.ubuntu.com/ubuntu focal-backports InRelease [108 kB]\n",
            "Hit:10 http://ppa.launchpad.net/graphics-drivers/ppa/ubuntu focal InRelease\n",
            "Get:11 https://developer.download.nvidia.com/compute/cuda/repos/ubuntu2004/x86_64  Packages [1,009 kB]\n",
            "Hit:12 http://ppa.launchpad.net/ubuntugis/ppa/ubuntu focal InRelease\n",
            "Get:13 http://security.ubuntu.com/ubuntu focal-security/main amd64 Packages [2,669 kB]\n",
            "Get:14 http://archive.ubuntu.com/ubuntu focal-updates/main amd64 Packages [3,150 kB]\n",
            "Fetched 7,169 kB in 4s (1,686 kB/s)\n",
            "Reading package lists... Done\n"
          ]
        }
      ],
      "source": [
        "import os\n",
        "# Find the latest version of spark 3.2 from http://www.apache.org/dist/spark/ and enter as the spark version\n",
        "# For example:\n",
        "# spark_version = 'spark-3.2.3'\n",
        "spark_version = 'spark-3.2.4'\n",
        "os.environ['SPARK_VERSION']=spark_version\n",
        "\n",
        "# Install Spark and Java\n",
        "!apt-get update\n",
        "!apt-get install openjdk-11-jdk-headless -qq > /dev/null\n",
        "!wget -q http://www.apache.org/dist/spark/$SPARK_VERSION/$SPARK_VERSION-bin-hadoop2.7.tgz\n",
        "!tar xf $SPARK_VERSION-bin-hadoop2.7.tgz\n",
        "!pip install -q findspark\n",
        "\n",
        "# Set Environment Variables\n",
        "import os\n",
        "os.environ[\"JAVA_HOME\"] = \"/usr/lib/jvm/java-11-openjdk-amd64\"\n",
        "os.environ[\"SPARK_HOME\"] = f\"/content/{spark_version}-bin-hadoop2.7\"\n",
        "\n",
        "# Start a SparkSession\n",
        "import findspark\n",
        "findspark.init()"
      ]
    },
    {
      "cell_type": "code",
      "source": [
        "!wget https://jdbc.postgresql.org/download/postgresql-42.2.16.jar\n",
        "from pyspark.sql import SparkSession\n",
        "spark = SparkSession.builder.appName(\"Amazon-Review\").config(\"spark.driver.extraClassPath\",\"/content/postgresql-42.2.16.jar\").getOrCreate()\n",
        "# Read in data from S3 Buckets\n",
        "from pyspark import SparkFiles\n",
        "\n",
        "url = \"https://s3.amazonaws.com/amazon-reviews-pds/tsv/amazon_reviews_us_Wireless_v1_00.tsv.gz\"\n",
        "spark.sparkContext.addFile(url)\n",
        "df = spark.read.csv(SparkFiles.get(\"amazon_reviews_us_Wireless_v1_00.tsv.gz\"), sep=\"\\t\", header=True)\n",
        "df.show()"
      ],
      "metadata": {
        "colab": {
          "base_uri": "https://localhost:8080/"
        },
        "id": "1D6n-Q9ch9tM",
        "outputId": "2bb865b6-96a6-4e24-febb-35199f7a45ad"
      },
      "execution_count": 2,
      "outputs": [
        {
          "output_type": "stream",
          "name": "stdout",
          "text": [
            "--2023-05-06 19:26:46--  https://jdbc.postgresql.org/download/postgresql-42.2.16.jar\n",
            "Resolving jdbc.postgresql.org (jdbc.postgresql.org)... 72.32.157.228, 2001:4800:3e1:1::228\n",
            "Connecting to jdbc.postgresql.org (jdbc.postgresql.org)|72.32.157.228|:443... connected.\n",
            "HTTP request sent, awaiting response... 200 OK\n",
            "Length: 1002883 (979K) [application/java-archive]\n",
            "Saving to: ‘postgresql-42.2.16.jar’\n",
            "\n",
            "postgresql-42.2.16. 100%[===================>] 979.38K  6.32MB/s    in 0.2s    \n",
            "\n",
            "2023-05-06 19:26:46 (6.32 MB/s) - ‘postgresql-42.2.16.jar’ saved [1002883/1002883]\n",
            "\n",
            "+-----------+-----------+--------------+----------+--------------+--------------------+----------------+-----------+-------------+-----------+----+-----------------+--------------------+--------------------+-----------+\n",
            "|marketplace|customer_id|     review_id|product_id|product_parent|       product_title|product_category|star_rating|helpful_votes|total_votes|vine|verified_purchase|     review_headline|         review_body|review_date|\n",
            "+-----------+-----------+--------------+----------+--------------+--------------------+----------------+-----------+-------------+-----------+----+-----------------+--------------------+--------------------+-----------+\n",
            "|         US|   16414143|R3W4P9UBGNGH1U|B00YL0EKWE|     852431543|LG G4 Case Hard T...|        Wireless|          2|            1|          3|   N|                Y|Looks good, funct...|2 issues  -  Once...| 2015-08-31|\n",
            "|         US|   50800750|R15V54KBMTQWAY|B00XK95RPQ|     516894650|Selfie Stick Fibl...|        Wireless|          4|            0|          0|   N|                N| A fun little gadget|I’m embarrassed t...| 2015-08-31|\n",
            "|         US|   15184378| RY8I449HNXSVF|B00SXRXUKO|     984297154|Tribe AB40 Water ...|        Wireless|          5|            0|          0|   N|                Y|          Five Stars|  Fits iPhone 6 well| 2015-08-31|\n",
            "|         US|   10203548|R18TLJYCKJFLSR|B009V5X1CE|     279912704|RAVPower® Element...|        Wireless|          5|            0|          0|   N|                Y|       Great charger|Great charger.  I...| 2015-08-31|\n",
            "|         US|     488280|R1NK26SWS53B8Q|B00D93OVF0|     662791300|Fosmon Micro USB ...|        Wireless|          5|            0|          0|   N|                Y|          Five Stars|Great for the pri...| 2015-08-31|\n",
            "|         US|   13334021|R11LOHEDYJALTN|B00XVGJMDQ|     421688488|iPhone 6 Case, Vo...|        Wireless|          5|            0|          0|   N|                Y|          Five Stars|Great Case, bette...| 2015-08-31|\n",
            "|         US|   27520697|R3ALQVQB2P9LA7|B00KQW1X1C|     554285554|Nokia Lumia 630 R...|        Wireless|          4|            0|          0|   N|                Y|          Four Stars|Easy to set up an...| 2015-08-31|\n",
            "|         US|   48086021|R3MWLXLNO21PDQ|B00IP1MQNK|     488006702|Lumsing 10400mah ...|        Wireless|          5|            0|          0|   N|                Y|          Five Stars|         Works great| 2015-08-31|\n",
            "|         US|   12738196|R2L15IS24CX0LI|B00HVORET8|     389677711|iPhone 5S Battery...|        Wireless|          5|            0|          0|   N|                Y|      So far so good|So far so good. I...| 2015-08-31|\n",
            "|         US|   15867807|R1DJ8976WPWVZU|B00HX3G6J6|     299654876|HTC One M8 Screen...|        Wireless|          3|            0|          0|   N|                Y|seems durable but...|seems durable but...| 2015-08-31|\n",
            "|         US|    1972249|R3MRWNNR8CBTB7|B00U4NATNQ|     577878727|S6 Case - Bear Mo...|        Wireless|          5|            0|          0|   N|                Y|Super thin, light...|Super thin, light...| 2015-08-31|\n",
            "|         US|   10956619|R1DS6DKTUXAQK3|B00SZEFDH8|     654620704|BLU Studio X, Unl...|        Wireless|          5|            0|          0|   N|                Y|          Five Stars|As good as the Sa...| 2015-08-31|\n",
            "|         US|   14805911| RWJM5E0TWUJD2|B00JRJUL9U|     391166958|EZOPower 5-Port U...|        Wireless|          5|            0|          0|   N|                Y|            EZOPower|I received this o...| 2015-08-31|\n",
            "|         US|   15611116|R1XTJKDYNCRGAC|B00KQ4T0HE|     481551630|iPhone 6S Case &i...|        Wireless|          1|            0|          0|   N|                Y|Very cheap case. ...|Very cheap case. ...| 2015-08-31|\n",
            "|         US|   39298603|R2UZL3DPWEU1XW|B00M0YWKPM|     685107474| iPhone 6s Plus Case|        Wireless|          5|            0|          0|   N|                Y|          Five Stars|       son loves it.| 2015-08-31|\n",
            "|         US|   17552454|R2EZXET9KBFFU3|B00KDZEE68|     148320945|zBoost ZB575-A TR...|        Wireless|          1|            0|          0|   N|                Y|            One Star|you have to turn ...| 2015-08-31|\n",
            "|         US|   12218556|R26VY1L1FD3LPU|B00BJN45GM|      47788188|OtterBox Defender...|        Wireless|          5|            0|          0|   N|                Y|          Five Stars|  Awesome, thank you| 2015-08-31|\n",
            "|         US|   21872923|R2SSA4NSFCV18T|B00SA86SXW|     748759272|Aduro PowerUP 30W...|        Wireless|          5|            0|          0|   N|                N|          Five Stars|         nice, smart| 2015-08-31|\n",
            "|         US|   16264332|R1G6333JHJNEUQ|B00Q3I68TU|     974085141|LilGadgets Connec...|        Wireless|          5|            0|          0|   N|                Y|Great headphones ...|We love these hea...| 2015-08-31|\n",
            "|         US|    6042304|R2DRG0UZXJQ0PE|B00TN4J1TA|     716174627|Anker Aluminum Mu...|        Wireless|          5|            0|          0|   N|                Y|          Five Stars|This is well wort...| 2015-08-31|\n",
            "+-----------+-----------+--------------+----------+--------------+--------------------+----------------+-----------+-------------+-----------+----+-----------------+--------------------+--------------------+-----------+\n",
            "only showing top 20 rows\n",
            "\n"
          ]
        }
      ]
    },
    {
      "cell_type": "code",
      "source": [
        "total_votes_df = df.filter(df.total_votes >= 20)\n",
        "total_votes_df.show(10)"
      ],
      "metadata": {
        "colab": {
          "base_uri": "https://localhost:8080/"
        },
        "id": "8cP7jZO0iWhI",
        "outputId": "6f379947-eff9-4aaa-c9b6-23c7ce331245"
      },
      "execution_count": 3,
      "outputs": [
        {
          "output_type": "stream",
          "name": "stdout",
          "text": [
            "+-----------+-----------+--------------+----------+--------------+--------------------+----------------+-----------+-------------+-----------+----+-----------------+--------------------+--------------------+-----------+\n",
            "|marketplace|customer_id|     review_id|product_id|product_parent|       product_title|product_category|star_rating|helpful_votes|total_votes|vine|verified_purchase|     review_headline|         review_body|review_date|\n",
            "+-----------+-----------+--------------+----------+--------------+--------------------+----------------+-----------+-------------+-----------+----+-----------------+--------------------+--------------------+-----------+\n",
            "|         US|   44689470|R2WOW0TURNXB26|B00YY3UBV2|     310491927|            Garmin 1|        Wireless|          3|           54|         59|   N|                Y|Pretty Disappoint...|Bought this unit ...| 2015-08-31|\n",
            "|         US|     112342|R13VL62Y2HBQ0B|B010VFZJD6|     129632031|iTaste MVP3 PRO -...|        Wireless|          5|           15|         21|   N|                Y|   Excellent battery|I love my Mvp pro...| 2015-08-31|\n",
            "|         US|   13557708|R22G55KAPZKJQV|B00C8S8S4W|     998105706|SPOT 3 Satellite ...|        Wireless|          4|           20|         21|   N|                Y|Great but buy the...|My mom made me pu...| 2015-08-31|\n",
            "|         US|    3346419|R1610PGTJS7G3N|B011I4XMXS|     431799284|   Ausdom Dash cam 1|        Wireless|          2|           28|         44|   N|                Y| Pretty dissapointed|I was hoping for ...| 2015-08-31|\n",
            "|         US|   46029442| RLQL04BL0QXOJ|B00OSTKZWM|     736471392|RCA 5.5-Inch Quad...|        Wireless|          4|           45|         47|   N|                Y|Tried many... Thi...|I had been lookin...| 2015-08-31|\n",
            "|         US|   19380011|R2AYJHH8WJNGAU|B013D32WVA|     138975975|Samsung Galaxy No...|        Wireless|          4|           98|        104|   N|                Y|     Time will tell.|I wanted a water ...| 2015-08-31|\n",
            "|         US|   22953177|R111DJA10Y6CMU|B013BHLU66|     396362963|Waterproof Case f...|        Wireless|          5|           26|         39|   N|                Y|Great Value - Goo...|First, I will say...| 2015-08-31|\n",
            "|         US|   16980808|R2EE2TR4MRDV0U|B00Y1Z87UU|     956867660|IBESTWIN Li-ion R...|        Wireless|          5|           53|         59|   N|                Y|Does it get any b...|A great battery f...| 2015-08-31|\n",
            "|         US|   37339397| RD4A80I5JDHED|B00UY29N8Y|     384094161|IncrediSonic M700...|        Wireless|          5|           69|         77|   N|                N|        Virtual Fun!|I was a bit skept...| 2015-08-31|\n",
            "|         US|    7830540|R1GU6IYZQWQE8X|B00NPZG6DW|     267673298|      Parrot Zik 2.0|        Wireless|          2|           24|         25|   N|                Y|Crappy lining... ...|These sounds grea...| 2015-08-31|\n",
            "+-----------+-----------+--------------+----------+--------------+--------------------+----------------+-----------+-------------+-----------+----+-----------------+--------------------+--------------------+-----------+\n",
            "only showing top 10 rows\n",
            "\n"
          ]
        }
      ]
    },
    {
      "cell_type": "code",
      "source": [
        "helpful_votes_df = total_votes_df.filter((total_votes_df.helpful_votes / total_votes_df.total_votes) >= 0.5)\n",
        "helpful_votes_df.show(10)\n",
        "     "
      ],
      "metadata": {
        "colab": {
          "base_uri": "https://localhost:8080/"
        },
        "id": "M8EsBp58imuP",
        "outputId": "18ad019b-0081-439c-d480-5ef3035e4c08"
      },
      "execution_count": 35,
      "outputs": [
        {
          "output_type": "stream",
          "name": "stdout",
          "text": [
            "+-----------+-----------+--------------+----------+--------------+--------------------+----------------+-----------+-------------+-----------+----+-----------------+--------------------+--------------------+-----------+\n",
            "|marketplace|customer_id|     review_id|product_id|product_parent|       product_title|product_category|star_rating|helpful_votes|total_votes|vine|verified_purchase|     review_headline|         review_body|review_date|\n",
            "+-----------+-----------+--------------+----------+--------------+--------------------+----------------+-----------+-------------+-----------+----+-----------------+--------------------+--------------------+-----------+\n",
            "|         US|   44689470|R2WOW0TURNXB26|B00YY3UBV2|     310491927|            Garmin 1|        Wireless|          3|           54|         59|   N|                Y|Pretty Disappoint...|Bought this unit ...| 2015-08-31|\n",
            "|         US|     112342|R13VL62Y2HBQ0B|B010VFZJD6|     129632031|iTaste MVP3 PRO -...|        Wireless|          5|           15|         21|   N|                Y|   Excellent battery|I love my Mvp pro...| 2015-08-31|\n",
            "|         US|   13557708|R22G55KAPZKJQV|B00C8S8S4W|     998105706|SPOT 3 Satellite ...|        Wireless|          4|           20|         21|   N|                Y|Great but buy the...|My mom made me pu...| 2015-08-31|\n",
            "|         US|    3346419|R1610PGTJS7G3N|B011I4XMXS|     431799284|   Ausdom Dash cam 1|        Wireless|          2|           28|         44|   N|                Y| Pretty dissapointed|I was hoping for ...| 2015-08-31|\n",
            "|         US|   46029442| RLQL04BL0QXOJ|B00OSTKZWM|     736471392|RCA 5.5-Inch Quad...|        Wireless|          4|           45|         47|   N|                Y|Tried many... Thi...|I had been lookin...| 2015-08-31|\n",
            "|         US|   19380011|R2AYJHH8WJNGAU|B013D32WVA|     138975975|Samsung Galaxy No...|        Wireless|          4|           98|        104|   N|                Y|     Time will tell.|I wanted a water ...| 2015-08-31|\n",
            "|         US|   22953177|R111DJA10Y6CMU|B013BHLU66|     396362963|Waterproof Case f...|        Wireless|          5|           26|         39|   N|                Y|Great Value - Goo...|First, I will say...| 2015-08-31|\n",
            "|         US|   16980808|R2EE2TR4MRDV0U|B00Y1Z87UU|     956867660|IBESTWIN Li-ion R...|        Wireless|          5|           53|         59|   N|                Y|Does it get any b...|A great battery f...| 2015-08-31|\n",
            "|         US|   37339397| RD4A80I5JDHED|B00UY29N8Y|     384094161|IncrediSonic M700...|        Wireless|          5|           69|         77|   N|                N|        Virtual Fun!|I was a bit skept...| 2015-08-31|\n",
            "|         US|    7830540|R1GU6IYZQWQE8X|B00NPZG6DW|     267673298|      Parrot Zik 2.0|        Wireless|          2|           24|         25|   N|                Y|Crappy lining... ...|These sounds grea...| 2015-08-31|\n",
            "+-----------+-----------+--------------+----------+--------------+--------------------+----------------+-----------+-------------+-----------+----+-----------------+--------------------+--------------------+-----------+\n",
            "only showing top 10 rows\n",
            "\n"
          ]
        }
      ]
    },
    {
      "cell_type": "code",
      "source": [
        "total_vine_df = helpful_votes_df.filter(helpful_votes_df.vine == 'Y')\n",
        "total_vine_df.show(10)"
      ],
      "metadata": {
        "colab": {
          "base_uri": "https://localhost:8080/"
        },
        "id": "ZOQai5FGi-UN",
        "outputId": "e1183c7d-eb1a-40db-d9b2-744cf33e4e49"
      },
      "execution_count": 34,
      "outputs": [
        {
          "output_type": "stream",
          "name": "stdout",
          "text": [
            "+-----------+-----------+--------------+----------+--------------+--------------------+----------------+-----------+-------------+-----------+----+-----------------+--------------------+--------------------+-----------+\n",
            "|marketplace|customer_id|     review_id|product_id|product_parent|       product_title|product_category|star_rating|helpful_votes|total_votes|vine|verified_purchase|     review_headline|         review_body|review_date|\n",
            "+-----------+-----------+--------------+----------+--------------+--------------------+----------------+-----------+-------------+-----------+----+-----------------+--------------------+--------------------+-----------+\n",
            "|         US|   48852155|R1MAOLI5FJHAFM|B013X0V11K|     610966690|BLU Studio 7.0 ll...|        Wireless|          4|          249|        261|   Y|                N|More than just a ...|Ever since the ve...| 2015-08-31|\n",
            "|         US|   11556116| R9PYAUDIBJVEC|B013X0V4VM|     672788343|BLU Studio C Supe...|        Wireless|          4|           12|         22|   Y|                N|Large clear scree...|I picked this pho...| 2015-08-30|\n",
            "|         US|   46671309| R6V9SHMMG5M8F|B013X0V11K|     610966690|BLU Studio 7.0 ll...|        Wireless|          5|          101|        110|   Y|                N|  Very good Phablet!|I remember the da...| 2015-08-30|\n",
            "|         US|   49598970|R37PVLT6ELL5J4|B011HT9AL2|     557568833|Tile (Gen 2) - Ph...|        Wireless|          4|          181|        209|   Y|                N|This low-cost tra...|I was initially s...| 2015-08-28|\n",
            "|         US|   52057325| R2FSFGWZF24V9|B0129T0XXS|     592405023|BLU Studio C 5+5 ...|        Wireless|          4|           50|         51|   Y|                N|Great phone for a...|I am a TOTAL Ludd...| 2015-08-24|\n",
            "|         US|   53019847|R3SRW1E8J56IGV|B0129TQLPW|     226174255|BLU Energy X Plus...|        Wireless|          5|          262|        281|   Y|                N|A bang for the bu...|The BLU Energy X ...| 2015-08-16|\n",
            "|         US|   31302915| R86Z11D4CWOFM|B0129T0XXS|     592405023|BLU Studio C 5+5 ...|        Wireless|          4|           32|         36|   Y|                N|Not as pictured, ...|First off, the ph...| 2015-08-16|\n",
            "|         US|   50885906| RNP01HW9YISJO|B00W7S34HY|     920588860|Optrix  Waterproo...|        Wireless|          4|           20|         23|   Y|                N|A high quality, c...|Prior to using th...| 2015-08-15|\n",
            "|         US|   49110251|R3KLACA6LCDZ0S|B00W75BKQ4|     566439653|Motorola T460 Rec...|        Wireless|          3|           21|         22|   Y|                N|Good feature set ...|In an age of cell...| 2015-08-15|\n",
            "|         US|   50125011| RZEQYOT2RE0N7|B0129T0XXS|     592405023|BLU Studio C 5+5 ...|        Wireless|          4|           75|         80|   Y|                N|BLU Studio C 5+5 ...|Amazingly easy to...| 2015-08-14|\n",
            "+-----------+-----------+--------------+----------+--------------+--------------------+----------------+-----------+-------------+-----------+----+-----------------+--------------------+--------------------+-----------+\n",
            "only showing top 10 rows\n",
            "\n"
          ]
        }
      ]
    },
    {
      "cell_type": "code",
      "source": [
        "total_none_vine_df = helpful_votes_df.filter(helpful_votes_df.vine == 'N')\n",
        "total_none_vine_df.show(10)"
      ],
      "metadata": {
        "colab": {
          "base_uri": "https://localhost:8080/"
        },
        "id": "SybsXsu-jKkP",
        "outputId": "ce14d23e-4ec9-4855-e78a-c15b37f419d4"
      },
      "execution_count": 36,
      "outputs": [
        {
          "output_type": "stream",
          "name": "stdout",
          "text": [
            "+-----------+-----------+--------------+----------+--------------+--------------------+----------------+-----------+-------------+-----------+----+-----------------+--------------------+--------------------+-----------+\n",
            "|marketplace|customer_id|     review_id|product_id|product_parent|       product_title|product_category|star_rating|helpful_votes|total_votes|vine|verified_purchase|     review_headline|         review_body|review_date|\n",
            "+-----------+-----------+--------------+----------+--------------+--------------------+----------------+-----------+-------------+-----------+----+-----------------+--------------------+--------------------+-----------+\n",
            "|         US|   44689470|R2WOW0TURNXB26|B00YY3UBV2|     310491927|            Garmin 1|        Wireless|          3|           54|         59|   N|                Y|Pretty Disappoint...|Bought this unit ...| 2015-08-31|\n",
            "|         US|     112342|R13VL62Y2HBQ0B|B010VFZJD6|     129632031|iTaste MVP3 PRO -...|        Wireless|          5|           15|         21|   N|                Y|   Excellent battery|I love my Mvp pro...| 2015-08-31|\n",
            "|         US|   13557708|R22G55KAPZKJQV|B00C8S8S4W|     998105706|SPOT 3 Satellite ...|        Wireless|          4|           20|         21|   N|                Y|Great but buy the...|My mom made me pu...| 2015-08-31|\n",
            "|         US|    3346419|R1610PGTJS7G3N|B011I4XMXS|     431799284|   Ausdom Dash cam 1|        Wireless|          2|           28|         44|   N|                Y| Pretty dissapointed|I was hoping for ...| 2015-08-31|\n",
            "|         US|   46029442| RLQL04BL0QXOJ|B00OSTKZWM|     736471392|RCA 5.5-Inch Quad...|        Wireless|          4|           45|         47|   N|                Y|Tried many... Thi...|I had been lookin...| 2015-08-31|\n",
            "|         US|   19380011|R2AYJHH8WJNGAU|B013D32WVA|     138975975|Samsung Galaxy No...|        Wireless|          4|           98|        104|   N|                Y|     Time will tell.|I wanted a water ...| 2015-08-31|\n",
            "|         US|   22953177|R111DJA10Y6CMU|B013BHLU66|     396362963|Waterproof Case f...|        Wireless|          5|           26|         39|   N|                Y|Great Value - Goo...|First, I will say...| 2015-08-31|\n",
            "|         US|   16980808|R2EE2TR4MRDV0U|B00Y1Z87UU|     956867660|IBESTWIN Li-ion R...|        Wireless|          5|           53|         59|   N|                Y|Does it get any b...|A great battery f...| 2015-08-31|\n",
            "|         US|   37339397| RD4A80I5JDHED|B00UY29N8Y|     384094161|IncrediSonic M700...|        Wireless|          5|           69|         77|   N|                N|        Virtual Fun!|I was a bit skept...| 2015-08-31|\n",
            "|         US|    7830540|R1GU6IYZQWQE8X|B00NPZG6DW|     267673298|      Parrot Zik 2.0|        Wireless|          2|           24|         25|   N|                Y|Crappy lining... ...|These sounds grea...| 2015-08-31|\n",
            "+-----------+-----------+--------------+----------+--------------+--------------------+----------------+-----------+-------------+-----------+----+-----------------+--------------------+--------------------+-----------+\n",
            "only showing top 10 rows\n",
            "\n"
          ]
        }
      ]
    },
    {
      "cell_type": "code",
      "source": [
        "total_vine_df_count= total_vine_df.count()\n",
        "total_vine_df_count"
      ],
      "metadata": {
        "colab": {
          "base_uri": "https://localhost:8080/"
        },
        "id": "TflVpfLfx-o_",
        "outputId": "c2ebadc1-2f65-4686-a2fa-b992114375ba"
      },
      "execution_count": 41,
      "outputs": [
        {
          "output_type": "execute_result",
          "data": {
            "text/plain": [
              "613"
            ]
          },
          "metadata": {},
          "execution_count": 41
        }
      ]
    },
    {
      "cell_type": "code",
      "source": [
        "total_none_vine_df_count= total_none_vine_df.count()\n",
        "total_none_vine_df_count"
      ],
      "metadata": {
        "colab": {
          "base_uri": "https://localhost:8080/"
        },
        "id": "InE5GiZEyfHU",
        "outputId": "0f260811-9474-44a7-adb3-143ed47fdd45"
      },
      "execution_count": 42,
      "outputs": [
        {
          "output_type": "execute_result",
          "data": {
            "text/plain": [
              "64968"
            ]
          },
          "metadata": {},
          "execution_count": 42
        }
      ]
    },
    {
      "cell_type": "code",
      "source": [
        "total_five_star_vine_df = total_vine_df.filter(total_vine_df.star_rating == 5).count()\n",
        "total_five_star_vine_df"
      ],
      "metadata": {
        "colab": {
          "base_uri": "https://localhost:8080/"
        },
        "id": "6_tvJMUXjsOh",
        "outputId": "1ccd3c98-4fc5-402e-9675-58e19cd920ce"
      },
      "execution_count": 43,
      "outputs": [
        {
          "output_type": "execute_result",
          "data": {
            "text/plain": [
              "222"
            ]
          },
          "metadata": {},
          "execution_count": 43
        }
      ]
    },
    {
      "cell_type": "code",
      "source": [
        "total_five_star_none_vine_df = total_none_vine_df.filter(total_none_vine_df.star_rating == 5).count()\n",
        "total_five_star_none_vine_df"
      ],
      "metadata": {
        "colab": {
          "base_uri": "https://localhost:8080/"
        },
        "id": "9l0v8tRhrecc",
        "outputId": "7b5fa844-be22-4883-de07-c36258c7d888"
      },
      "execution_count": 44,
      "outputs": [
        {
          "output_type": "execute_result",
          "data": {
            "text/plain": [
              "30543"
            ]
          },
          "metadata": {},
          "execution_count": 44
        }
      ]
    },
    {
      "cell_type": "code",
      "source": [
        "five_star_vine_percent = (total_five_star_vine_df / total_vine_df_count) * 100\n",
        "five_star_vine_percent"
      ],
      "metadata": {
        "colab": {
          "base_uri": "https://localhost:8080/"
        },
        "id": "4CyxtRMZl9ms",
        "outputId": "91173a4b-bcb5-46cd-d51e-9a012df30ba7"
      },
      "execution_count": 47,
      "outputs": [
        {
          "output_type": "execute_result",
          "data": {
            "text/plain": [
              "36.215334420880914"
            ]
          },
          "metadata": {},
          "execution_count": 47
        }
      ]
    },
    {
      "cell_type": "code",
      "source": [
        "five_star_none_vine_percent = (total_five_star_none_vine_df / total_none_vine_df_count) * 100\n",
        "five_star_none_vine_percent"
      ],
      "metadata": {
        "colab": {
          "base_uri": "https://localhost:8080/"
        },
        "id": "sNMvgZnUmMK5",
        "outputId": "86c428d4-c9a9-4c88-b49d-c3c2cfe69e35"
      },
      "execution_count": 48,
      "outputs": [
        {
          "output_type": "execute_result",
          "data": {
            "text/plain": [
              "47.01237532323606"
            ]
          },
          "metadata": {},
          "execution_count": 48
        }
      ]
    }
  ]
}